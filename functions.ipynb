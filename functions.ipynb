{
 "cells": [
  {
   "cell_type": "code",
   "execution_count": 16,
   "metadata": {},
   "outputs": [],
   "source": [
    "import glob\n",
    "import skimage\n",
    "import skimage.io\n",
    "import numpy as np\n",
    "import matplotlib.pyplot as plt\n",
    "from skimage.filters import sobel, roberts\n",
    "from skimage import exposure\n",
    "from skimage.draw import circle_perimeter\n",
    "from skimage.feature import peak_local_max, canny\n",
    "from skimage.transform import hough_circle, hough_circle_peaks\n",
    "from skimage.util import crop\n",
    "from skimage.color import rgb2gray"
   ]
  },
  {
   "cell_type": "code",
   "execution_count": 5,
   "metadata": {},
   "outputs": [],
   "source": [
    "def get_image_data(im_dir):\n",
    "    '''\n",
    "    INPUT: name of directory containing images (str), with sub-directories separated by '\\\\'\n",
    "    OUTPUT: pandas dataframe of the gray-scale image N x 5 matrix with N = number of images and\n",
    "            columns = [Date, Environ, Choloramphenicol,-Log10(Dilution),gray-scale pixel values]\n",
    "    MODULES: glob, skimage, pandas\n",
    "    '''\n",
    "    \n",
    "    # Imports\n",
    "    import glob\n",
    "    from skimage.io import imread\n",
    "    from skimage.color import rgb2gray\n",
    "    import pandas as pd\n",
    "    \n",
    "    im_list = list( glob.glob(im_dir + \"/**/*.jpg\",recursive=True))\n",
    "    images = [rgb2gray(imread(im_name)) for im_name in im_list]\n",
    "    \n",
    "    # Load images and store in list \n",
    "    im_list = list(im.split('\\\\') + [images[idx]] for idx, im in enumerate(im_list))\n",
    "    images = pd.DataFrame(im_list,columns = ['drop','Date','treatment','Image']).drop('drop',axis= 1)\n",
    "    \n",
    "    # remove .JPG tag, make new columns for treatment\n",
    "    treatment = images.pop('treatment')\n",
    "    conditions_df = pd.concat([treatment] * 3, axis = 1)\n",
    "    conditions_df.columns = ['CHL','Environ','-Log(Dilution)']\n",
    "    for idx, condition in enumerate(treatment):\n",
    "        agar, environ, dilution = tuple(condition.split('_'))\n",
    "        if agar == 'MEA':\n",
    "            conditions_df.loc[idx,'CHL'] = 'Yes'\n",
    "        else:\n",
    "            conditions_df.loc[idx,'CHL'] = 'No'\n",
    "        conditions_df.loc[idx,'Environ'] = environ\n",
    "        conditions_df.loc[idx,'-Log(Dilution)'] =  dilution.replace('.JPG','')\n",
    "\n",
    "    # Now create output matrix\n",
    "    data = pd.concat([images,conditions_df], axis = 1)\n",
    "    data_arranged = data[['Date','Environ','CHL','-Log(Dilution)','Image']]\n",
    "    \n",
    "    return data_arranged"
   ]
  },
  {
   "cell_type": "code",
   "execution_count": 9,
   "metadata": {},
   "outputs": [],
   "source": [
    "def plate_edge_detector(image,sigma=5,low_threshold=7,high_threshold=40):\n",
    "    '''\n",
    "    INPUT: - Plate Image\n",
    "           - optional: sigma, low threshold, high_theshold (see skimage)\n",
    "    OUPUT: Canny Filter for edge of plate\n",
    "    modules: skimage\n",
    "    '''\n",
    "    # Imports\n",
    "    from skimage.feature import canny\n",
    "    from skimage.util import img_as_ubyte\n",
    "    \n",
    "    image = img_as_ubyte(image)\n",
    "    return canny(image,sigma=sigma, low_threshold=low_threshold, high_threshold=high_threshold)"
   ]
  },
  {
   "cell_type": "code",
   "execution_count": 15,
   "metadata": {},
   "outputs": [],
   "source": [
    "def define_circular_roi(image,edge):\n",
    "    '''\n",
    "    INPUT: - Plate Image \n",
    "           - edge detected by plate_edge_detector\n",
    "    OUPUT: region of interest (roi) in which analysis will be done\n",
    "    modules: skimage, numpy\n",
    "    '''\n",
    "    # Imports\n",
    "    from skimage.transform import hough_circle, hough_circle_peaks\n",
    "    from skimage.draw import circle_perimeter\n",
    "    from skimage.util import img_as_ubyte\n",
    "    from skimage.color import gray2rgb\n",
    "    from numpy import arange\n",
    "    \n",
    "    image = img_as_ubyte(image)\n",
    "    r = 1880/2 # pixel radius of plate.\n",
    "    hough_radii = arange(r-5,r+5, 2)\n",
    "    hough_res = hough_circle(edge,hough_radii)\n",
    "    accums, cx, cy, radius = hough_circle_peaks(hough_res, hough_radii,\n",
    "                                           total_num_peaks=1)\n",
    "    circy, circx = circle_perimeter(int(cy), int(cx), int(radius),shape=image.shape)\n",
    "    \n",
    "    return (circy,circx)"
   ]
  }
 ],
 "metadata": {
  "kernelspec": {
   "display_name": "Python 3",
   "language": "python",
   "name": "python3"
  },
  "language_info": {
   "codemirror_mode": {
    "name": "ipython",
    "version": 3
   },
   "file_extension": ".py",
   "mimetype": "text/x-python",
   "name": "python",
   "nbconvert_exporter": "python",
   "pygments_lexer": "ipython3",
   "version": "3.7.3"
  }
 },
 "nbformat": 4,
 "nbformat_minor": 4
}
